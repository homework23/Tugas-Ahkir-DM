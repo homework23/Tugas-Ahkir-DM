{
  "nbformat": 4,
  "nbformat_minor": 0,
  "metadata": {
    "colab": {
      "name": "Untitled8.ipynb",
      "provenance": []
    },
    "kernelspec": {
      "name": "python3",
      "display_name": "Python 3"
    },
    "language_info": {
      "name": "python"
    }
  },
  "cells": [
    {
      "cell_type": "code",
      "metadata": {
        "id": "oGUa9aeLPn-A"
      },
      "source": [
        "import matplotlib.pyplot as plt\n",
        "import numpy as np\n",
        "import pandas as pd\n",
        "from sklearn.cluster import KMeans"
      ],
      "execution_count": 2,
      "outputs": []
    },
    {
      "cell_type": "code",
      "metadata": {
        "colab": {
          "base_uri": "https://localhost:8080/"
        },
        "id": "m0IzoIVGQ6xD",
        "outputId": "d90fb0b3-0356-4a63-da8b-21e954d93c3f"
      },
      "source": [
        "dataset = pd.read_csv('/content/laporankejora.csv')\n",
        "dataset.keys()"
      ],
      "execution_count": 3,
      "outputs": [
        {
          "output_type": "execute_result",
          "data": {
            "text/plain": [
              "Index(['INCOME', 'OPERATIONAL'], dtype='object')"
            ]
          },
          "metadata": {
            "tags": []
          },
          "execution_count": 3
        }
      ]
    },
    {
      "cell_type": "code",
      "metadata": {
        "colab": {
          "base_uri": "https://localhost:8080/",
          "height": 204
        },
        "id": "J6CXCMgfRABa",
        "outputId": "fac6065c-5354-4da9-c0d4-b745ce0eff62"
      },
      "source": [
        "dataku = pd.DataFrame(dataset)\n",
        "dataku.head()"
      ],
      "execution_count": 4,
      "outputs": [
        {
          "output_type": "execute_result",
          "data": {
            "text/html": [
              "<div>\n",
              "<style scoped>\n",
              "    .dataframe tbody tr th:only-of-type {\n",
              "        vertical-align: middle;\n",
              "    }\n",
              "\n",
              "    .dataframe tbody tr th {\n",
              "        vertical-align: top;\n",
              "    }\n",
              "\n",
              "    .dataframe thead th {\n",
              "        text-align: right;\n",
              "    }\n",
              "</style>\n",
              "<table border=\"1\" class=\"dataframe\">\n",
              "  <thead>\n",
              "    <tr style=\"text-align: right;\">\n",
              "      <th></th>\n",
              "      <th>INCOME</th>\n",
              "      <th>OPERATIONAL</th>\n",
              "    </tr>\n",
              "  </thead>\n",
              "  <tbody>\n",
              "    <tr>\n",
              "      <th>0</th>\n",
              "      <td>15000</td>\n",
              "      <td>12000</td>\n",
              "    </tr>\n",
              "    <tr>\n",
              "      <th>1</th>\n",
              "      <td>30000</td>\n",
              "      <td>26500</td>\n",
              "    </tr>\n",
              "    <tr>\n",
              "      <th>2</th>\n",
              "      <td>42000</td>\n",
              "      <td>29800</td>\n",
              "    </tr>\n",
              "    <tr>\n",
              "      <th>3</th>\n",
              "      <td>43500</td>\n",
              "      <td>55000</td>\n",
              "    </tr>\n",
              "    <tr>\n",
              "      <th>4</th>\n",
              "      <td>45900</td>\n",
              "      <td>32000</td>\n",
              "    </tr>\n",
              "  </tbody>\n",
              "</table>\n",
              "</div>"
            ],
            "text/plain": [
              "   INCOME  OPERATIONAL\n",
              "0   15000        12000\n",
              "1   30000        26500\n",
              "2   42000        29800\n",
              "3   43500        55000\n",
              "4   45900        32000"
            ]
          },
          "metadata": {
            "tags": []
          },
          "execution_count": 4
        }
      ]
    },
    {
      "cell_type": "code",
      "metadata": {
        "colab": {
          "base_uri": "https://localhost:8080/"
        },
        "id": "InPFkA29RBBE",
        "outputId": "6dbd49f4-a8db-4a4d-f0ce-2b378341725f"
      },
      "source": [
        "x = np.asarray(dataset)\n",
        "print(x)"
      ],
      "execution_count": 5,
      "outputs": [
        {
          "output_type": "stream",
          "text": [
            "[[ 15000  12000]\n",
            " [ 30000  26500]\n",
            " [ 42000  29800]\n",
            " [ 43500  55000]\n",
            " [ 45900  32000]\n",
            " [ 50000  54000]\n",
            " [ 53550  47600]\n",
            " [ 57400  42000]\n",
            " [ 62500  60590]\n",
            " [ 69500  84900]\n",
            " [ 70100  27000]\n",
            " [ 73500  55400]\n",
            " [ 77000  85700]\n",
            " [ 79900  90000]\n",
            " [ 82300  87000]\n",
            " [ 85000  32700]\n",
            " [ 87690  85000]\n",
            " [ 87800  55600]\n",
            " [ 97000  90800]\n",
            " [100000  80600]]\n"
          ],
          "name": "stdout"
        }
      ]
    },
    {
      "cell_type": "code",
      "metadata": {
        "colab": {
          "base_uri": "https://localhost:8080/",
          "height": 295
        },
        "id": "EdSa3fvSRD_r",
        "outputId": "2fd53f9e-3ac4-4e73-8162-3827474299bd"
      },
      "source": [
        "plt.scatter(x[:,0], x[:,1], label='True Position')\n",
        "plt.xlabel(\"INCOME\") \n",
        "plt.ylabel(\"OPERATIONAL\")\n",
        "plt.title(\"Grafik Pendapatan dan Pengeluaran Bulanan\")\n",
        "plt.show()"
      ],
      "execution_count": 10,
      "outputs": [
        {
          "output_type": "display_data",
          "data": {
            "image/png": "[encoded data removed]",
            "text/plain": [
              "<Figure size 432x288 with 1 Axes>"
            ]
          },
          "metadata": {
            "tags": [],
            "needs_background": "light"
          }
        }
      ]
    },
    {
      "cell_type": "code",
      "metadata": {
        "colab": {
          "base_uri": "https://localhost:8080/"
        },
        "id": "3TfTlIMfRIOq",
        "outputId": "3cd2a8c0-a64b-4fe2-a381-37630d6c4c93"
      },
      "source": [
        "kmeans = KMeans(n_clusters=2)\n",
        "kmeans.fit(x)\n",
        "print(kmeans.cluster_centers_)"
      ],
      "execution_count": 7,
      "outputs": [
        {
          "output_type": "stream",
          "text": [
            "[[85148.75       82450.        ]\n",
            " [52370.83333333 39549.16666667]]\n"
          ],
          "name": "stdout"
        }
      ]
    },
    {
      "cell_type": "code",
      "metadata": {
        "colab": {
          "base_uri": "https://localhost:8080/",
          "height": 295
        },
        "id": "jeLIbCNwRMHV",
        "outputId": "093fd2f2-b3d2-4055-930a-8c6535f588d2"
      },
      "source": [
        "plt.scatter(x[:,0], x[:,1], c=kmeans.labels_, cmap='rainbow')\n",
        "plt.xlabel(\"INCOME\")\n",
        "plt.ylabel(\"OPERATIONAL\")\n",
        "plt.title(\"Grafik Pendapatan dan Pengeluaran Bulanan\")\n",
        "plt.show()"
      ],
      "execution_count": 11,
      "outputs": [
        {
          "output_type": "display_data",
          "data": {
            "image/png": "[encoded data removed]",
            "text/plain": [
              "<Figure size 432x288 with 1 Axes>"
            ]
          },
          "metadata": {
            "tags": [],
            "needs_background": "light"
          }
        }
      ]
    }
  ]
}